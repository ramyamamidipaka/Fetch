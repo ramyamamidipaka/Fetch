{
 "cells": [
  {
   "cell_type": "code",
   "execution_count": 1,
   "id": "822bc020-258d-443f-b737-a9478b5a63c8",
   "metadata": {},
   "outputs": [],
   "source": [
    "## Dint use any AI for coding Help - Ramya Mamidipaka\n",
    "\n",
    "\n",
    "import pandas as pd\n",
    "import numpy as np\n",
    "import matplotlib.pyplot as plt \n",
    "\n",
    "import seaborn as sns\n",
    "import warnings\n",
    "warnings.filterwarnings(\"ignore\")\n",
    "import random\n",
    "\n",
    "from scipy.stats import chi2_contingency\n",
    "from pandasql import sqldf\n",
    "from datetime import datetime\n",
    "\n"
   ]
  },
  {
   "cell_type": "code",
   "execution_count": 2,
   "id": "5a3384d2-5eef-4492-b407-2faec83f6cb1",
   "metadata": {},
   "outputs": [],
   "source": [
    "df_user=pd.read_csv('user_takehome.csv')\n",
    "df_transaction=pd.read_csv('transaction_takehome.csv')\n",
    "df_product=pd.read_csv('products_takehome.csv')"
   ]
  },
  {
   "cell_type": "markdown",
   "id": "f7165941-34be-427a-8b9b-6e0c1853ce19",
   "metadata": {},
   "source": [
    "### DATA EXPLORATION - USER"
   ]
  },
  {
   "cell_type": "markdown",
   "id": "537cdb43-6f07-4c01-b5bf-9fe2bbed57e2",
   "metadata": {},
   "source": [
    "### USER Table"
   ]
  },
  {
   "cell_type": "code",
   "execution_count": 5,
   "id": "3052c826-1280-4b9e-84e5-4d826218c250",
   "metadata": {},
   "outputs": [
    {
     "data": {
      "text/html": [
       "<div>\n",
       "<style scoped>\n",
       "    .dataframe tbody tr th:only-of-type {\n",
       "        vertical-align: middle;\n",
       "    }\n",
       "\n",
       "    .dataframe tbody tr th {\n",
       "        vertical-align: top;\n",
       "    }\n",
       "\n",
       "    .dataframe thead th {\n",
       "        text-align: right;\n",
       "    }\n",
       "</style>\n",
       "<table border=\"1\" class=\"dataframe\">\n",
       "  <thead>\n",
       "    <tr style=\"text-align: right;\">\n",
       "      <th></th>\n",
       "      <th>ID</th>\n",
       "      <th>CREATED_DATE</th>\n",
       "      <th>BIRTH_DATE</th>\n",
       "      <th>STATE</th>\n",
       "      <th>LANGUAGE</th>\n",
       "      <th>GENDER</th>\n",
       "    </tr>\n",
       "  </thead>\n",
       "  <tbody>\n",
       "    <tr>\n",
       "      <th>0</th>\n",
       "      <td>5ef3b4f17053ab141787697d</td>\n",
       "      <td>2020-06-24 20:17:54.000 Z</td>\n",
       "      <td>2000-08-11 00:00:00.000 Z</td>\n",
       "      <td>CA</td>\n",
       "      <td>es-419</td>\n",
       "      <td>female</td>\n",
       "    </tr>\n",
       "    <tr>\n",
       "      <th>1</th>\n",
       "      <td>5ff220d383fcfc12622b96bc</td>\n",
       "      <td>2021-01-03 19:53:55.000 Z</td>\n",
       "      <td>2001-09-24 04:00:00.000 Z</td>\n",
       "      <td>PA</td>\n",
       "      <td>en</td>\n",
       "      <td>female</td>\n",
       "    </tr>\n",
       "    <tr>\n",
       "      <th>2</th>\n",
       "      <td>6477950aa55bb77a0e27ee10</td>\n",
       "      <td>2023-05-31 18:42:18.000 Z</td>\n",
       "      <td>1994-10-28 00:00:00.000 Z</td>\n",
       "      <td>FL</td>\n",
       "      <td>es-419</td>\n",
       "      <td>female</td>\n",
       "    </tr>\n",
       "    <tr>\n",
       "      <th>3</th>\n",
       "      <td>658a306e99b40f103b63ccf8</td>\n",
       "      <td>2023-12-26 01:46:22.000 Z</td>\n",
       "      <td>NaN</td>\n",
       "      <td>NC</td>\n",
       "      <td>en</td>\n",
       "      <td>NaN</td>\n",
       "    </tr>\n",
       "    <tr>\n",
       "      <th>4</th>\n",
       "      <td>653cf5d6a225ea102b7ecdc2</td>\n",
       "      <td>2023-10-28 11:51:50.000 Z</td>\n",
       "      <td>1972-03-19 00:00:00.000 Z</td>\n",
       "      <td>PA</td>\n",
       "      <td>en</td>\n",
       "      <td>female</td>\n",
       "    </tr>\n",
       "  </tbody>\n",
       "</table>\n",
       "</div>"
      ],
      "text/plain": [
       "                         ID               CREATED_DATE  \\\n",
       "0  5ef3b4f17053ab141787697d  2020-06-24 20:17:54.000 Z   \n",
       "1  5ff220d383fcfc12622b96bc  2021-01-03 19:53:55.000 Z   \n",
       "2  6477950aa55bb77a0e27ee10  2023-05-31 18:42:18.000 Z   \n",
       "3  658a306e99b40f103b63ccf8  2023-12-26 01:46:22.000 Z   \n",
       "4  653cf5d6a225ea102b7ecdc2  2023-10-28 11:51:50.000 Z   \n",
       "\n",
       "                  BIRTH_DATE STATE LANGUAGE  GENDER  \n",
       "0  2000-08-11 00:00:00.000 Z    CA   es-419  female  \n",
       "1  2001-09-24 04:00:00.000 Z    PA       en  female  \n",
       "2  1994-10-28 00:00:00.000 Z    FL   es-419  female  \n",
       "3                        NaN    NC       en     NaN  \n",
       "4  1972-03-19 00:00:00.000 Z    PA       en  female  "
      ]
     },
     "execution_count": 5,
     "metadata": {},
     "output_type": "execute_result"
    }
   ],
   "source": [
    "df_user.head()"
   ]
  },
  {
   "cell_type": "code",
   "execution_count": 6,
   "id": "fb64fe60-b84d-44e8-9a80-e733444c57fb",
   "metadata": {},
   "outputs": [],
   "source": [
    "df_user['CREATED_DATE'] = pd.to_datetime(df_user['CREATED_DATE'],\n",
    "               format='%Y-%m-%d %H:%M:%S.%f Z')\n",
    "\n",
    "df_user['BIRTH_DATE'] = pd.to_datetime(df_user['BIRTH_DATE'],\n",
    "               format='%Y-%m-%d %H:%M:%S.%f Z')\n",
    "df_user['BIRTH_YEAR'] = df_user['BIRTH_DATE'].dt.year.astype('Int64')\n",
    "df_user['CREATED_YEAR'] = df_user['CREATED_DATE'].dt.year.astype('Int64')\n",
    "\n",
    "df_user['BIRTH_MONTH'] = df_user['BIRTH_DATE'].dt.month.astype('Int64')\n",
    "\n",
    "df_user['Age']= (((pd.to_datetime(datetime.now().date())- df_user['BIRTH_DATE']).dt.days)/365).round().astype('Int64')\n",
    "df_user['Age_Account']= ((pd.to_datetime(datetime.now().date())- df_user['CREATED_DATE']).dt.days).astype('Int64')\n"
   ]
  },
  {
   "cell_type": "code",
   "execution_count": 7,
   "id": "d81c5bbf-0cc2-4aab-aa60-be4a20dce0cf",
   "metadata": {},
   "outputs": [
    {
     "data": {
      "text/plain": [
       "2022"
      ]
     },
     "execution_count": 7,
     "metadata": {},
     "output_type": "execute_result"
    }
   ],
   "source": [
    "df_user['BIRTH_YEAR'].max()"
   ]
  },
  {
   "cell_type": "code",
   "execution_count": 8,
   "id": "388bb2b6-5768-4ebb-9a1d-f1a5d8ebb11c",
   "metadata": {},
   "outputs": [
    {
     "data": {
      "text/plain": [
       "1900"
      ]
     },
     "execution_count": 8,
     "metadata": {},
     "output_type": "execute_result"
    }
   ],
   "source": [
    "df_user['BIRTH_YEAR'].min()"
   ]
  },
  {
   "cell_type": "code",
   "execution_count": 9,
   "id": "60cf2c6a-2dcc-402b-9827-228032c299fd",
   "metadata": {},
   "outputs": [
    {
     "data": {
      "text/html": [
       "<div>\n",
       "<style scoped>\n",
       "    .dataframe tbody tr th:only-of-type {\n",
       "        vertical-align: middle;\n",
       "    }\n",
       "\n",
       "    .dataframe tbody tr th {\n",
       "        vertical-align: top;\n",
       "    }\n",
       "\n",
       "    .dataframe thead th {\n",
       "        text-align: right;\n",
       "    }\n",
       "</style>\n",
       "<table border=\"1\" class=\"dataframe\">\n",
       "  <thead>\n",
       "    <tr style=\"text-align: right;\">\n",
       "      <th></th>\n",
       "      <th>ID</th>\n",
       "      <th>CREATED_DATE</th>\n",
       "      <th>BIRTH_DATE</th>\n",
       "      <th>STATE</th>\n",
       "      <th>LANGUAGE</th>\n",
       "      <th>GENDER</th>\n",
       "      <th>BIRTH_YEAR</th>\n",
       "      <th>CREATED_YEAR</th>\n",
       "      <th>BIRTH_MONTH</th>\n",
       "      <th>Age</th>\n",
       "      <th>Age_Account</th>\n",
       "    </tr>\n",
       "  </thead>\n",
       "  <tbody>\n",
       "    <tr>\n",
       "      <th>41974</th>\n",
       "      <td>5f31fc048fa1e914d38d6952</td>\n",
       "      <td>2020-08-11 02:01:41</td>\n",
       "      <td>2020-10-02 15:27:28</td>\n",
       "      <td>CA</td>\n",
       "      <td>NaN</td>\n",
       "      <td>NaN</td>\n",
       "      <td>2020</td>\n",
       "      <td>2020</td>\n",
       "      <td>10</td>\n",
       "      <td>4</td>\n",
       "      <td>1635</td>\n",
       "    </tr>\n",
       "  </tbody>\n",
       "</table>\n",
       "</div>"
      ],
      "text/plain": [
       "                             ID        CREATED_DATE          BIRTH_DATE STATE  \\\n",
       "41974  5f31fc048fa1e914d38d6952 2020-08-11 02:01:41 2020-10-02 15:27:28    CA   \n",
       "\n",
       "      LANGUAGE GENDER  BIRTH_YEAR  CREATED_YEAR  BIRTH_MONTH  Age  Age_Account  \n",
       "41974      NaN    NaN        2020          2020           10    4         1635  "
      ]
     },
     "execution_count": 9,
     "metadata": {},
     "output_type": "execute_result"
    }
   ],
   "source": [
    "df_user[df_user['CREATED_DATE']<=df_user['BIRTH_DATE']]"
   ]
  },
  {
   "cell_type": "code",
   "execution_count": 10,
   "id": "65ca210e-2587-49fb-8b54-2ff1c9ec7c5a",
   "metadata": {},
   "outputs": [
    {
     "data": {
      "text/plain": [
       "<Axes: xlabel='Age', ylabel='Count'>"
      ]
     },
     "execution_count": 10,
     "metadata": {},
     "output_type": "execute_result"
    },
    {
     "data": {
      "image/png": "[encoded data removed]",
      "text/plain": [
       "<Figure size 640x480 with 1 Axes>"
      ]
     },
     "metadata": {},
     "output_type": "display_data"
    }
   ],
   "source": [
    "sns.histplot(data=df_user, x=\"Age\",binwidth=5)"
   ]
  },
  {
   "cell_type": "code",
   "execution_count": 11,
   "id": "d8c50b74-3f26-4687-a85b-ff0d80a1f327",
   "metadata": {
    "jupyter": {
     "source_hidden": true
    }
   },
   "outputs": [],
   "source": [
    "### defining generation through Birth_date Year\n",
    "def generation(num):\n",
    "    if num<=1927:\n",
    "        return 'Greatest Generation'\n",
    "    elif num<=1945:\n",
    "        return 'Silent Generation'\n",
    "    elif num<=1964:\n",
    "        return 'Baby Boom'\n",
    "    elif num<= 1980:\n",
    "        return 'Generation X'\n",
    "    elif num<=1996:\n",
    "        return 'Millennial'\n",
    "    elif num<=2010:\n",
    "        return 'Generation Z'\n",
    "    elif num<=2024:\n",
    "        return 'Generation Alpha'\n",
    "    elif num<=2039:\n",
    "        return 'Generation Beta'\n",
    "\n",
    "df_user['Generation']=df_user['BIRTH_YEAR'].apply(lambda x: generation(x))"
   ]
  },
  {
   "cell_type": "markdown",
   "id": "2fde0be6-6ecf-4036-8178-48648e4840d1",
   "metadata": {},
   "source": [
    "### PRODUCT Table"
   ]
  },
  {
   "cell_type": "code",
   "execution_count": 13,
   "id": "add0211e-1cca-43cc-b02f-9b2368427bdb",
   "metadata": {},
   "outputs": [],
   "source": [
    "df_product['BARCODE']=df_product['BARCODE'].astype('Int64', errors='ignore')"
   ]
  },
  {
   "cell_type": "code",
   "execution_count": 14,
   "id": "312406be-da3a-402f-8a40-f59f72cb586f",
   "metadata": {},
   "outputs": [
    {
     "data": {
      "text/plain": [
       "CATEGORY_1      0.000131\n",
       "CATEGORY_2      0.001684\n",
       "CATEGORY_3      0.071629\n",
       "CATEGORY_4      0.920219\n",
       "MANUFACTURER    0.267842\n",
       "BRAND           0.267839\n",
       "BARCODE         0.004760\n",
       "dtype: float64"
      ]
     },
     "execution_count": 14,
     "metadata": {},
     "output_type": "execute_result"
    }
   ],
   "source": [
    "df_product.isnull().sum()/len(df_product)"
   ]
  },
  {
   "cell_type": "code",
   "execution_count": 15,
   "id": "95b6205b-69d1-4e81-87c8-d8dab14a5fa3",
   "metadata": {},
   "outputs": [
    {
     "data": {
      "text/html": [
       "<div>\n",
       "<style scoped>\n",
       "    .dataframe tbody tr th:only-of-type {\n",
       "        vertical-align: middle;\n",
       "    }\n",
       "\n",
       "    .dataframe tbody tr th {\n",
       "        vertical-align: top;\n",
       "    }\n",
       "\n",
       "    .dataframe thead th {\n",
       "        text-align: right;\n",
       "    }\n",
       "</style>\n",
       "<table border=\"1\" class=\"dataframe\">\n",
       "  <thead>\n",
       "    <tr style=\"text-align: right;\">\n",
       "      <th></th>\n",
       "      <th>CATEGORY_1</th>\n",
       "      <th>CATEGORY_2</th>\n",
       "      <th>CATEGORY_3</th>\n",
       "      <th>CATEGORY_4</th>\n",
       "      <th>MANUFACTURER</th>\n",
       "      <th>BRAND</th>\n",
       "      <th>BARCODE</th>\n",
       "    </tr>\n",
       "  </thead>\n",
       "  <tbody>\n",
       "    <tr>\n",
       "      <th>0</th>\n",
       "      <td>Health &amp; Wellness</td>\n",
       "      <td>Sexual Health</td>\n",
       "      <td>Conductivity Gels &amp; Lotions</td>\n",
       "      <td>NaN</td>\n",
       "      <td>NaN</td>\n",
       "      <td>NaN</td>\n",
       "      <td>796494407820</td>\n",
       "    </tr>\n",
       "    <tr>\n",
       "      <th>1</th>\n",
       "      <td>Snacks</td>\n",
       "      <td>Puffed Snacks</td>\n",
       "      <td>Cheese Curls &amp; Puffs</td>\n",
       "      <td>NaN</td>\n",
       "      <td>NaN</td>\n",
       "      <td>NaN</td>\n",
       "      <td>23278011028</td>\n",
       "    </tr>\n",
       "    <tr>\n",
       "      <th>2</th>\n",
       "      <td>Health &amp; Wellness</td>\n",
       "      <td>Hair Care</td>\n",
       "      <td>Hair Care Accessories</td>\n",
       "      <td>NaN</td>\n",
       "      <td>PLACEHOLDER MANUFACTURER</td>\n",
       "      <td>ELECSOP</td>\n",
       "      <td>461817824225</td>\n",
       "    </tr>\n",
       "    <tr>\n",
       "      <th>3</th>\n",
       "      <td>Health &amp; Wellness</td>\n",
       "      <td>Oral Care</td>\n",
       "      <td>Toothpaste</td>\n",
       "      <td>NaN</td>\n",
       "      <td>COLGATE-PALMOLIVE</td>\n",
       "      <td>COLGATE</td>\n",
       "      <td>35000466815</td>\n",
       "    </tr>\n",
       "    <tr>\n",
       "      <th>4</th>\n",
       "      <td>Health &amp; Wellness</td>\n",
       "      <td>Medicines &amp; Treatments</td>\n",
       "      <td>Essential Oils</td>\n",
       "      <td>NaN</td>\n",
       "      <td>MAPLE HOLISTICS AND HONEYDEW PRODUCTS INTERCHA...</td>\n",
       "      <td>MAPLE HOLISTICS</td>\n",
       "      <td>806810850459</td>\n",
       "    </tr>\n",
       "  </tbody>\n",
       "</table>\n",
       "</div>"
      ],
      "text/plain": [
       "          CATEGORY_1              CATEGORY_2                   CATEGORY_3  \\\n",
       "0  Health & Wellness           Sexual Health  Conductivity Gels & Lotions   \n",
       "1             Snacks           Puffed Snacks         Cheese Curls & Puffs   \n",
       "2  Health & Wellness               Hair Care        Hair Care Accessories   \n",
       "3  Health & Wellness               Oral Care                   Toothpaste   \n",
       "4  Health & Wellness  Medicines & Treatments               Essential Oils   \n",
       "\n",
       "  CATEGORY_4                                       MANUFACTURER  \\\n",
       "0        NaN                                                NaN   \n",
       "1        NaN                                                NaN   \n",
       "2        NaN                           PLACEHOLDER MANUFACTURER   \n",
       "3        NaN                                  COLGATE-PALMOLIVE   \n",
       "4        NaN  MAPLE HOLISTICS AND HONEYDEW PRODUCTS INTERCHA...   \n",
       "\n",
       "             BRAND       BARCODE  \n",
       "0              NaN  796494407820  \n",
       "1              NaN   23278011028  \n",
       "2          ELECSOP  461817824225  \n",
       "3          COLGATE   35000466815  \n",
       "4  MAPLE HOLISTICS  806810850459  "
      ]
     },
     "execution_count": 15,
     "metadata": {},
     "output_type": "execute_result"
    }
   ],
   "source": [
    "df_product.head()"
   ]
  },
  {
   "cell_type": "markdown",
   "id": "bf390a9f-bc2f-4a4e-b04d-9e8cc81b4a7f",
   "metadata": {},
   "source": [
    "### TRANSACTION Table"
   ]
  },
  {
   "cell_type": "code",
   "execution_count": 18,
   "id": "5652c182-6d3b-4a40-9ccb-d384eae91b0a",
   "metadata": {},
   "outputs": [],
   "source": [
    "df_transaction['BARCODE']=df_transaction['BARCODE'].astype('Int64', errors='ignore')"
   ]
  },
  {
   "cell_type": "code",
   "execution_count": 19,
   "id": "59a03b3b-9a52-47a0-a860-3ef0cf0682fb",
   "metadata": {},
   "outputs": [
    {
     "data": {
      "text/plain": [
       "15300014978"
      ]
     },
     "execution_count": 19,
     "metadata": {},
     "output_type": "execute_result"
    }
   ],
   "source": [
    "df_transaction['BARCODE'][0]"
   ]
  },
  {
   "cell_type": "code",
   "execution_count": 20,
   "id": "e67a4354-a000-4722-a52e-49dda401d868",
   "metadata": {},
   "outputs": [
    {
     "data": {
      "text/plain": [
       "array([' ', '1.49', '3.49', ..., '11.02', '20.17', '42.38'], dtype=object)"
      ]
     },
     "execution_count": 20,
     "metadata": {},
     "output_type": "execute_result"
    }
   ],
   "source": [
    "df_transaction['FINAL_SALE'].unique()"
   ]
  },
  {
   "cell_type": "code",
   "execution_count": 21,
   "id": "22265881-b92e-4fda-83da-268ba39c52ed",
   "metadata": {},
   "outputs": [],
   "source": [
    "df_transaction['SCAN_DATE'] = pd.to_datetime(df_transaction['SCAN_DATE'],format='%Y-%m-%d %H:%M:%S.%f Z')\n",
    "df_transaction['PURCHASE_DATE'] = pd.to_datetime(df_transaction['PURCHASE_DATE'],format='%m/%d/%Y')\n",
    "df_transaction['FINAL_QUANTITY']=df_transaction['FINAL_QUANTITY'].apply(lambda x : 0 if x=='zero' else float(x)).apply('{:.2f}'.format).astype(float)\n",
    "df_transaction['FINAL_SALE']=df_transaction['FINAL_SALE'].apply(lambda x : 0 if x==' ' else x).astype(float)\n",
    "df_transaction['PURCHASE_Year']=df_transaction['PURCHASE_DATE'].dt.year.astype('Int64')"
   ]
  },
  {
   "cell_type": "code",
   "execution_count": 22,
   "id": "c8eca379-aaa9-4827-aaa0-bb33076df355",
   "metadata": {},
   "outputs": [
    {
     "data": {
      "text/html": [
       "<div>\n",
       "<style scoped>\n",
       "    .dataframe tbody tr th:only-of-type {\n",
       "        vertical-align: middle;\n",
       "    }\n",
       "\n",
       "    .dataframe tbody tr th {\n",
       "        vertical-align: top;\n",
       "    }\n",
       "\n",
       "    .dataframe thead th {\n",
       "        text-align: right;\n",
       "    }\n",
       "</style>\n",
       "<table border=\"1\" class=\"dataframe\">\n",
       "  <thead>\n",
       "    <tr style=\"text-align: right;\">\n",
       "      <th></th>\n",
       "      <th>RECEIPT_ID</th>\n",
       "      <th>PURCHASE_DATE</th>\n",
       "      <th>SCAN_DATE</th>\n",
       "      <th>STORE_NAME</th>\n",
       "      <th>USER_ID</th>\n",
       "      <th>BARCODE</th>\n",
       "      <th>FINAL_QUANTITY</th>\n",
       "      <th>FINAL_SALE</th>\n",
       "      <th>PURCHASE_Year</th>\n",
       "    </tr>\n",
       "  </thead>\n",
       "  <tbody>\n",
       "    <tr>\n",
       "      <th>0</th>\n",
       "      <td>0000d256-4041-4a3e-adc4-5623fb6e0c99</td>\n",
       "      <td>2024-08-21</td>\n",
       "      <td>2024-08-21 14:19:06.539</td>\n",
       "      <td>WALMART</td>\n",
       "      <td>63b73a7f3d310dceeabd4758</td>\n",
       "      <td>15300014978</td>\n",
       "      <td>1.0</td>\n",
       "      <td>0.00</td>\n",
       "      <td>2024</td>\n",
       "    </tr>\n",
       "    <tr>\n",
       "      <th>1</th>\n",
       "      <td>0001455d-7a92-4a7b-a1d2-c747af1c8fd3</td>\n",
       "      <td>2024-07-20</td>\n",
       "      <td>2024-07-20 09:50:24.206</td>\n",
       "      <td>ALDI</td>\n",
       "      <td>62c08877baa38d1a1f6c211a</td>\n",
       "      <td>&lt;NA&gt;</td>\n",
       "      <td>0.0</td>\n",
       "      <td>1.49</td>\n",
       "      <td>2024</td>\n",
       "    </tr>\n",
       "    <tr>\n",
       "      <th>2</th>\n",
       "      <td>00017e0a-7851-42fb-bfab-0baa96e23586</td>\n",
       "      <td>2024-08-18</td>\n",
       "      <td>2024-08-19 15:38:56.813</td>\n",
       "      <td>WALMART</td>\n",
       "      <td>60842f207ac8b7729e472020</td>\n",
       "      <td>78742229751</td>\n",
       "      <td>1.0</td>\n",
       "      <td>0.00</td>\n",
       "      <td>2024</td>\n",
       "    </tr>\n",
       "    <tr>\n",
       "      <th>3</th>\n",
       "      <td>000239aa-3478-453d-801e-66a82e39c8af</td>\n",
       "      <td>2024-06-18</td>\n",
       "      <td>2024-06-19 11:03:37.468</td>\n",
       "      <td>FOOD LION</td>\n",
       "      <td>63fcd7cea4f8442c3386b589</td>\n",
       "      <td>783399746536</td>\n",
       "      <td>0.0</td>\n",
       "      <td>3.49</td>\n",
       "      <td>2024</td>\n",
       "    </tr>\n",
       "    <tr>\n",
       "      <th>4</th>\n",
       "      <td>00026b4c-dfe8-49dd-b026-4c2f0fd5c6a1</td>\n",
       "      <td>2024-07-04</td>\n",
       "      <td>2024-07-05 15:56:43.549</td>\n",
       "      <td>RANDALLS</td>\n",
       "      <td>6193231ae9b3d75037b0f928</td>\n",
       "      <td>47900501183</td>\n",
       "      <td>1.0</td>\n",
       "      <td>0.00</td>\n",
       "      <td>2024</td>\n",
       "    </tr>\n",
       "  </tbody>\n",
       "</table>\n",
       "</div>"
      ],
      "text/plain": [
       "                             RECEIPT_ID PURCHASE_DATE               SCAN_DATE  \\\n",
       "0  0000d256-4041-4a3e-adc4-5623fb6e0c99    2024-08-21 2024-08-21 14:19:06.539   \n",
       "1  0001455d-7a92-4a7b-a1d2-c747af1c8fd3    2024-07-20 2024-07-20 09:50:24.206   \n",
       "2  00017e0a-7851-42fb-bfab-0baa96e23586    2024-08-18 2024-08-19 15:38:56.813   \n",
       "3  000239aa-3478-453d-801e-66a82e39c8af    2024-06-18 2024-06-19 11:03:37.468   \n",
       "4  00026b4c-dfe8-49dd-b026-4c2f0fd5c6a1    2024-07-04 2024-07-05 15:56:43.549   \n",
       "\n",
       "  STORE_NAME                   USER_ID       BARCODE  FINAL_QUANTITY  \\\n",
       "0    WALMART  63b73a7f3d310dceeabd4758   15300014978             1.0   \n",
       "1       ALDI  62c08877baa38d1a1f6c211a          <NA>             0.0   \n",
       "2    WALMART  60842f207ac8b7729e472020   78742229751             1.0   \n",
       "3  FOOD LION  63fcd7cea4f8442c3386b589  783399746536             0.0   \n",
       "4   RANDALLS  6193231ae9b3d75037b0f928   47900501183             1.0   \n",
       "\n",
       "   FINAL_SALE  PURCHASE_Year  \n",
       "0        0.00           2024  \n",
       "1        1.49           2024  \n",
       "2        0.00           2024  \n",
       "3        3.49           2024  \n",
       "4        0.00           2024  "
      ]
     },
     "execution_count": 22,
     "metadata": {},
     "output_type": "execute_result"
    }
   ],
   "source": [
    "df_transaction.head()"
   ]
  },
  {
   "cell_type": "code",
   "execution_count": 23,
   "id": "2cdcadbb-ae35-4f3b-bb9d-54abd8b82039",
   "metadata": {},
   "outputs": [
    {
     "data": {
      "text/plain": [
       "49738"
      ]
     },
     "execution_count": 23,
     "metadata": {},
     "output_type": "execute_result"
    }
   ],
   "source": [
    "##users not in df_user but present in df_transaction\n",
    "df_diff = df_transaction[~df_transaction['USER_ID'].isin(df_user['ID'])]\n",
    "len(df_diff)"
   ]
  },
  {
   "cell_type": "code",
   "execution_count": 24,
   "id": "55ab006e-0843-4678-825e-a341be821255",
   "metadata": {},
   "outputs": [
    {
     "data": {
      "text/plain": [
       "17603"
      ]
     },
     "execution_count": 24,
     "metadata": {},
     "output_type": "execute_result"
    }
   ],
   "source": [
    "df_diff['USER_ID'].nunique()"
   ]
  },
  {
   "cell_type": "code",
   "execution_count": 25,
   "id": "9c8e7c84-7716-431d-9262-828146896f0e",
   "metadata": {},
   "outputs": [
    {
     "data": {
      "text/plain": [
       "25170"
      ]
     },
     "execution_count": 25,
     "metadata": {},
     "output_type": "execute_result"
    }
   ],
   "source": [
    "##barcodes not in df_product but present in df_transaction\n",
    "df_diff = df_transaction[~df_transaction['BARCODE'].isin(df_product['BARCODE'])]\n",
    "len(df_diff)"
   ]
  },
  {
   "cell_type": "code",
   "execution_count": 26,
   "id": "e8252029-a818-4791-af5f-0179cd7ae309",
   "metadata": {},
   "outputs": [
    {
     "data": {
      "text/plain": [
       "4465"
      ]
     },
     "execution_count": 26,
     "metadata": {},
     "output_type": "execute_result"
    }
   ],
   "source": [
    "df_diff['BARCODE'].nunique()"
   ]
  },
  {
   "cell_type": "markdown",
   "id": "7e57007c-bdd7-4413-9bf8-cf172c425cf8",
   "metadata": {},
   "source": [
    "# First: explore the data"
   ]
  },
  {
   "cell_type": "markdown",
   "id": "f898bf28-2551-4ebe-bd0a-9d7f041f87ba",
   "metadata": {},
   "source": [
    "#### Are there any data quality issues present?\n",
    "##### The above cells have the references to the points noted below\n",
    "##### USER TABLE\n",
    "- Birthdate Year ranges from 1900 to 2022 which is clearly not feasible for that users to interact with Fetch\n",
    "- One Entry where createddate is before Birthdate\n",
    "\n",
    "##### PRODUCT TABLE\n",
    "- With ~93% nulls in Category4 column, if possible we can either Drop it( as lot of caetgory4 info is already present in Category 3 ) or we need to maintain the columns more stringently\n",
    "\n",
    "##### TRANSACTION TABLE\n",
    "- Lot of non integer values in FINAL_QUANTITY column, Quantity is supposed to be a whole integer\n",
    "- FINAL_SALE is having ' ' instead of nulls\n",
    "- Since the Transactions table is related to product table through BARCODE, its important to have a non null BARCODE column\n",
    "- there are 49738 transactions with 17603 different users whose details are not in user table(But these users should be in users table due to referential data integrity)\n",
    "- there are 25170 transactions with 4465 different barcodes whose details are not in products table(But these products should be in products table due to referential data integrity)\n",
    "\n"
   ]
  },
  {
   "cell_type": "markdown",
   "id": "e8fd70ad-54a4-4aa4-90d8-42e944a60e9c",
   "metadata": {},
   "source": [
    "#### Are there any fields that are challenging to understand?\n",
    "- In the Transactions column- Scan_date and purchase_date need to be confirmed with their meaning. Purchase date is date of purchase of the product and scan date can be the date the receipt was scanned to capture the coins.!!\n",
    "\n"
   ]
  },
  {
   "cell_type": "markdown",
   "id": "0bcd7473-ddb4-40ba-9837-d53a4b42426a",
   "metadata": {},
   "source": [
    "# Second: provide SQL queries"
   ]
  },
  {
   "cell_type": "markdown",
   "id": "d0f78932-58b9-42ee-9298-a04e8ed6588e",
   "metadata": {},
   "source": [
    "#### What are the top 5 brands by receipts scanned among users 21 and over?\n"
   ]
  },
  {
   "cell_type": "code",
   "execution_count": 32,
   "id": "d8ae97dc-7189-4a9e-95b6-f497cb5bbe86",
   "metadata": {},
   "outputs": [
    {
     "data": {
      "text/html": [
       "<div>\n",
       "<style scoped>\n",
       "    .dataframe tbody tr th:only-of-type {\n",
       "        vertical-align: middle;\n",
       "    }\n",
       "\n",
       "    .dataframe tbody tr th {\n",
       "        vertical-align: top;\n",
       "    }\n",
       "\n",
       "    .dataframe thead th {\n",
       "        text-align: right;\n",
       "    }\n",
       "</style>\n",
       "<table border=\"1\" class=\"dataframe\">\n",
       "  <thead>\n",
       "    <tr style=\"text-align: right;\">\n",
       "      <th></th>\n",
       "      <th>BRAND</th>\n",
       "      <th>count(distinct t.receipt_id)</th>\n",
       "    </tr>\n",
       "  </thead>\n",
       "  <tbody>\n",
       "    <tr>\n",
       "      <th>0</th>\n",
       "      <td>None</td>\n",
       "      <td>3</td>\n",
       "    </tr>\n",
       "    <tr>\n",
       "      <th>1</th>\n",
       "      <td>DOVE</td>\n",
       "      <td>3</td>\n",
       "    </tr>\n",
       "    <tr>\n",
       "      <th>2</th>\n",
       "      <td>NERDS CANDY</td>\n",
       "      <td>3</td>\n",
       "    </tr>\n",
       "    <tr>\n",
       "      <th>3</th>\n",
       "      <td>COCA-COLA</td>\n",
       "      <td>2</td>\n",
       "    </tr>\n",
       "    <tr>\n",
       "      <th>4</th>\n",
       "      <td>GREAT VALUE</td>\n",
       "      <td>2</td>\n",
       "    </tr>\n",
       "  </tbody>\n",
       "</table>\n",
       "</div>"
      ],
      "text/plain": [
       "         BRAND  count(distinct t.receipt_id)\n",
       "0         None                             3\n",
       "1         DOVE                             3\n",
       "2  NERDS CANDY                             3\n",
       "3    COCA-COLA                             2\n",
       "4  GREAT VALUE                             2"
      ]
     },
     "execution_count": 32,
     "metadata": {},
     "output_type": "execute_result"
    }
   ],
   "source": [
    "query = \"\"\"\n",
    "Select p.brand , count(distinct t.receipt_id)\n",
    "from df_transaction t \n",
    "join df_user u on t.user_id=u.id \n",
    "join df_product p on p.barcode=t.barcode\n",
    "where u.age>=21 \n",
    "group by 1\n",
    "order by 2 desc, 1 asc limit 5\n",
    "\"\"\"\n",
    "\n",
    "run_query = lambda query: sqldf(query, globals())\n",
    "run_query(query)"
   ]
  },
  {
   "cell_type": "code",
   "execution_count": 33,
   "id": "b800b905-1523-4aae-b89c-d8258ac7b68d",
   "metadata": {},
   "outputs": [
    {
     "data": {
      "text/plain": [
       "BRAND\n",
       "DOVE           3\n",
       "NERDS CANDY    3\n",
       "COCA-COLA      2\n",
       "GREAT VALUE    2\n",
       "HERSHEY'S      2\n",
       "Name: RECEIPT_ID, dtype: int64"
      ]
     },
     "execution_count": 33,
     "metadata": {},
     "output_type": "execute_result"
    }
   ],
   "source": [
    "# Unlike SQL, Pandas considers null values as equal when performing joins. \n",
    "# This means that rows with null values in the join columns will be matched with each other.\n",
    "\n",
    "df_transaction_filtered = df_transaction[pd.notnull(df_transaction['USER_ID'])]\n",
    "df_transaction_filtered = df_transaction_filtered[pd.notnull(df_transaction_filtered['BARCODE'])] \n",
    "\n",
    "df_user_filtered = df_user[pd.notnull(df_user['ID'])] \n",
    "df_product_filtered = df_product[pd.notnull(df_product['BARCODE'])]\n",
    "\n",
    "\n",
    "df=df_transaction_filtered.merge(df_user_filtered, left_on='USER_ID', right_on='ID',how='inner').merge(df_product_filtered,on='BARCODE',how='inner')\n",
    "df[df['Age']>=21].groupby('BRAND')['RECEIPT_ID'].nunique().nlargest(5)"
   ]
  },
  {
   "cell_type": "markdown",
   "id": "62b1e069-7bc5-47e3-8d36-528856d6ae86",
   "metadata": {},
   "source": [
    "#### What are the top 5 brands by sales among users that have had their account for at least six months?\n"
   ]
  },
  {
   "cell_type": "code",
   "execution_count": 35,
   "id": "156dd131-fcee-4b42-ad83-dc02f417c4d2",
   "metadata": {},
   "outputs": [
    {
     "data": {
      "text/html": [
       "<div>\n",
       "<style scoped>\n",
       "    .dataframe tbody tr th:only-of-type {\n",
       "        vertical-align: middle;\n",
       "    }\n",
       "\n",
       "    .dataframe tbody tr th {\n",
       "        vertical-align: top;\n",
       "    }\n",
       "\n",
       "    .dataframe thead th {\n",
       "        text-align: right;\n",
       "    }\n",
       "</style>\n",
       "<table border=\"1\" class=\"dataframe\">\n",
       "  <thead>\n",
       "    <tr style=\"text-align: right;\">\n",
       "      <th></th>\n",
       "      <th>BRAND</th>\n",
       "      <th>sum( t.FINAL_SALE)</th>\n",
       "    </tr>\n",
       "  </thead>\n",
       "  <tbody>\n",
       "    <tr>\n",
       "      <th>0</th>\n",
       "      <td>CVS</td>\n",
       "      <td>72.00</td>\n",
       "    </tr>\n",
       "    <tr>\n",
       "      <th>1</th>\n",
       "      <td>TRIDENT</td>\n",
       "      <td>46.72</td>\n",
       "    </tr>\n",
       "    <tr>\n",
       "      <th>2</th>\n",
       "      <td>DOVE</td>\n",
       "      <td>42.88</td>\n",
       "    </tr>\n",
       "    <tr>\n",
       "      <th>3</th>\n",
       "      <td>COORS LIGHT</td>\n",
       "      <td>34.96</td>\n",
       "    </tr>\n",
       "    <tr>\n",
       "      <th>4</th>\n",
       "      <td>None</td>\n",
       "      <td>16.65</td>\n",
       "    </tr>\n",
       "  </tbody>\n",
       "</table>\n",
       "</div>"
      ],
      "text/plain": [
       "         BRAND  sum( t.FINAL_SALE)\n",
       "0          CVS               72.00\n",
       "1      TRIDENT               46.72\n",
       "2         DOVE               42.88\n",
       "3  COORS LIGHT               34.96\n",
       "4         None               16.65"
      ]
     },
     "execution_count": 35,
     "metadata": {},
     "output_type": "execute_result"
    }
   ],
   "source": [
    "#### SInce it was unclear whether is the Quantity or Sales amount, I put both the queries\n",
    "\n",
    "query = \"\"\"\n",
    "Select p.brand , sum( t.FINAL_SALE)\n",
    "from df_transaction t \n",
    "join df_user u on t.user_id=u.id \n",
    "join df_product p on p.barcode=t.barcode\n",
    "where u.Age_Account>=180 \n",
    "group by 1\n",
    "order by 2 desc, 1 asc limit 5\n",
    "\"\"\"\n",
    "\n",
    "run_query = lambda query: sqldf(query, globals())\n",
    "run_query(query)"
   ]
  },
  {
   "cell_type": "code",
   "execution_count": 36,
   "id": "947e69dd-46cb-487a-9aa3-0ab8f74003f9",
   "metadata": {},
   "outputs": [
    {
     "data": {
      "text/html": [
       "<div>\n",
       "<style scoped>\n",
       "    .dataframe tbody tr th:only-of-type {\n",
       "        vertical-align: middle;\n",
       "    }\n",
       "\n",
       "    .dataframe tbody tr th {\n",
       "        vertical-align: top;\n",
       "    }\n",
       "\n",
       "    .dataframe thead th {\n",
       "        text-align: right;\n",
       "    }\n",
       "</style>\n",
       "<table border=\"1\" class=\"dataframe\">\n",
       "  <thead>\n",
       "    <tr style=\"text-align: right;\">\n",
       "      <th></th>\n",
       "      <th>BRAND</th>\n",
       "      <th>sum( t.FINAL_QUANTITY)</th>\n",
       "    </tr>\n",
       "  </thead>\n",
       "  <tbody>\n",
       "    <tr>\n",
       "      <th>0</th>\n",
       "      <td>None</td>\n",
       "      <td>5.0</td>\n",
       "    </tr>\n",
       "    <tr>\n",
       "      <th>1</th>\n",
       "      <td>DOVE</td>\n",
       "      <td>5.0</td>\n",
       "    </tr>\n",
       "    <tr>\n",
       "      <th>2</th>\n",
       "      <td>SOUR PATCH KIDS</td>\n",
       "      <td>4.0</td>\n",
       "    </tr>\n",
       "    <tr>\n",
       "      <th>3</th>\n",
       "      <td>TRESEMMÉ</td>\n",
       "      <td>4.0</td>\n",
       "    </tr>\n",
       "    <tr>\n",
       "      <th>4</th>\n",
       "      <td>COCA-COLA</td>\n",
       "      <td>3.0</td>\n",
       "    </tr>\n",
       "  </tbody>\n",
       "</table>\n",
       "</div>"
      ],
      "text/plain": [
       "             BRAND  sum( t.FINAL_QUANTITY)\n",
       "0             None                     5.0\n",
       "1             DOVE                     5.0\n",
       "2  SOUR PATCH KIDS                     4.0\n",
       "3         TRESEMMÉ                     4.0\n",
       "4        COCA-COLA                     3.0"
      ]
     },
     "execution_count": 36,
     "metadata": {},
     "output_type": "execute_result"
    }
   ],
   "source": [
    "query = \"\"\"\n",
    "Select p.brand , sum( t.FINAL_QUANTITY)\n",
    "from df_transaction t \n",
    "join df_user u on t.user_id=u.id \n",
    "join df_product p on p.barcode=t.barcode\n",
    "where u.Age_Account>=180 \n",
    "group by 1\n",
    "order by 2 desc, 1 asc limit 5\n",
    "\"\"\"\n",
    "\n",
    "run_query = lambda query: sqldf(query, globals())\n",
    "run_query(query)"
   ]
  },
  {
   "cell_type": "markdown",
   "id": "e978f9e5-9f7a-4f7d-821c-e6e0466c4a56",
   "metadata": {},
   "source": [
    "#### What is the percentage of sales in the Health & Wellness category by generation?\n"
   ]
  },
  {
   "cell_type": "code",
   "execution_count": 38,
   "id": "16713e68-8728-421e-9d11-95949a9caccd",
   "metadata": {},
   "outputs": [
    {
     "data": {
      "text/html": [
       "<div>\n",
       "<style scoped>\n",
       "    .dataframe tbody tr th:only-of-type {\n",
       "        vertical-align: middle;\n",
       "    }\n",
       "\n",
       "    .dataframe tbody tr th {\n",
       "        vertical-align: top;\n",
       "    }\n",
       "\n",
       "    .dataframe thead th {\n",
       "        text-align: right;\n",
       "    }\n",
       "</style>\n",
       "<table border=\"1\" class=\"dataframe\">\n",
       "  <thead>\n",
       "    <tr style=\"text-align: right;\">\n",
       "      <th></th>\n",
       "      <th>Generation</th>\n",
       "      <th>percentage</th>\n",
       "    </tr>\n",
       "  </thead>\n",
       "  <tbody>\n",
       "    <tr>\n",
       "      <th>0</th>\n",
       "      <td>Generation Z</td>\n",
       "      <td>0.00</td>\n",
       "    </tr>\n",
       "    <tr>\n",
       "      <th>1</th>\n",
       "      <td>Millennial</td>\n",
       "      <td>39.96</td>\n",
       "    </tr>\n",
       "    <tr>\n",
       "      <th>2</th>\n",
       "      <td>None</td>\n",
       "      <td>0.00</td>\n",
       "    </tr>\n",
       "    <tr>\n",
       "      <th>3</th>\n",
       "      <td>Generation X</td>\n",
       "      <td>29.87</td>\n",
       "    </tr>\n",
       "    <tr>\n",
       "      <th>4</th>\n",
       "      <td>Baby Boom</td>\n",
       "      <td>39.47</td>\n",
       "    </tr>\n",
       "    <tr>\n",
       "      <th>5</th>\n",
       "      <td>Silent Generation</td>\n",
       "      <td>0.00</td>\n",
       "    </tr>\n",
       "    <tr>\n",
       "      <th>6</th>\n",
       "      <td>Generation Alpha</td>\n",
       "      <td>0.00</td>\n",
       "    </tr>\n",
       "    <tr>\n",
       "      <th>7</th>\n",
       "      <td>Greatest Generation</td>\n",
       "      <td>0.00</td>\n",
       "    </tr>\n",
       "  </tbody>\n",
       "</table>\n",
       "</div>"
      ],
      "text/plain": [
       "            Generation  percentage\n",
       "0         Generation Z        0.00\n",
       "1           Millennial       39.96\n",
       "2                 None        0.00\n",
       "3         Generation X       29.87\n",
       "4            Baby Boom       39.47\n",
       "5    Silent Generation        0.00\n",
       "6     Generation Alpha        0.00\n",
       "7  Greatest Generation        0.00"
      ]
     },
     "execution_count": 38,
     "metadata": {},
     "output_type": "execute_result"
    }
   ],
   "source": [
    "query = \"\"\"\n",
    "with gen as (select distinct Generation from df_user )\n",
    "select g.Generation,coalesce(perc_health,0) as percentage from gen g left join (\n",
    "select generation, round(Health*100/tot_sale,2) as perc_health from(\n",
    "Select u.generation, sum(case when CATEGORY_1='Health & Wellness' then FINAL_SALE else 0 end) as Health, sum(FINAL_SALE) as tot_sale\n",
    "from df_transaction t \n",
    "join df_user u on t.user_id=u.id \n",
    "join df_product p on p.barcode=t.barcode\n",
    "where u.Age_Account>=180 \n",
    "group by 1)p )k on g.Generation=k.Generation\n",
    "\"\"\"\n",
    "\n",
    "run_query = lambda query: sqldf(query, globals())\n",
    "run_query(query)"
   ]
  },
  {
   "cell_type": "code",
   "execution_count": 39,
   "id": "882f33ff-595d-47bb-911b-837846037cf2",
   "metadata": {},
   "outputs": [
    {
     "data": {
      "text/html": [
       "<div>\n",
       "<style scoped>\n",
       "    .dataframe tbody tr th:only-of-type {\n",
       "        vertical-align: middle;\n",
       "    }\n",
       "\n",
       "    .dataframe tbody tr th {\n",
       "        vertical-align: top;\n",
       "    }\n",
       "\n",
       "    .dataframe thead th {\n",
       "        text-align: right;\n",
       "    }\n",
       "</style>\n",
       "<table border=\"1\" class=\"dataframe\">\n",
       "  <thead>\n",
       "    <tr style=\"text-align: right;\">\n",
       "      <th></th>\n",
       "      <th>Generation</th>\n",
       "      <th>CATEGORY_1</th>\n",
       "      <th>FINAL_SALE</th>\n",
       "      <th>Total_sales_generation</th>\n",
       "      <th>Perc</th>\n",
       "    </tr>\n",
       "  </thead>\n",
       "  <tbody>\n",
       "    <tr>\n",
       "      <th>3</th>\n",
       "      <td>Baby Boom</td>\n",
       "      <td>Health &amp; Wellness</td>\n",
       "      <td>89.03</td>\n",
       "      <td>225.57</td>\n",
       "      <td>39.47</td>\n",
       "    </tr>\n",
       "    <tr>\n",
       "      <th>6</th>\n",
       "      <td>Generation X</td>\n",
       "      <td>Health &amp; Wellness</td>\n",
       "      <td>41.50</td>\n",
       "      <td>138.95</td>\n",
       "      <td>29.87</td>\n",
       "    </tr>\n",
       "    <tr>\n",
       "      <th>9</th>\n",
       "      <td>Millennial</td>\n",
       "      <td>Health &amp; Wellness</td>\n",
       "      <td>59.13</td>\n",
       "      <td>147.97</td>\n",
       "      <td>39.96</td>\n",
       "    </tr>\n",
       "  </tbody>\n",
       "</table>\n",
       "</div>"
      ],
      "text/plain": [
       "     Generation         CATEGORY_1  FINAL_SALE  Total_sales_generation   Perc\n",
       "3     Baby Boom  Health & Wellness       89.03                  225.57  39.47\n",
       "6  Generation X  Health & Wellness       41.50                  138.95  29.87\n",
       "9    Millennial  Health & Wellness       59.13                  147.97  39.96"
      ]
     },
     "execution_count": 39,
     "metadata": {},
     "output_type": "execute_result"
    }
   ],
   "source": [
    "df_transaction_filtered = df_transaction[pd.notnull(df_transaction['USER_ID'])]\n",
    "df_transaction_filtered = df_transaction_filtered[pd.notnull(df_transaction_filtered['BARCODE'])] \n",
    "\n",
    "df_user_filtered = df_user[pd.notnull(df_user['ID'])] \n",
    "df_product_filtered = df_product[pd.notnull(df_product['BARCODE'])]\n",
    "\n",
    "\n",
    "df=df_transaction_filtered.merge(df_user_filtered, left_on='USER_ID', right_on='ID',how='inner').merge(df_product_filtered,on='BARCODE',how='inner')\n",
    "df['Total_sales_generation']=df.groupby(['Generation'])['FINAL_SALE'].transform('sum')\n",
    "df_2= df.groupby(['Generation','CATEGORY_1']).agg({'FINAL_SALE':'sum','Total_sales_generation':'max'}).reset_index()\n",
    "df_2['Perc']=(df_2['FINAL_SALE']*100/df_2['Total_sales_generation']).round(2)\n",
    "df_2[df_2['CATEGORY_1']=='Health & Wellness']"
   ]
  },
  {
   "cell_type": "markdown",
   "id": "48a50d00-390e-401a-bd4f-52cdb4aa6234",
   "metadata": {},
   "source": [
    "#### Who are Fetch’s power users?\n"
   ]
  },
  {
   "cell_type": "markdown",
   "id": "d2f71cdc-2a25-4704-8725-352cb090b60b",
   "metadata": {},
   "source": [
    "##### In the below Graphs, we see a dip in Recency graph after 30 days, dip after 1 receipts, dip after 10$ final sale.\n",
    "\n",
    "##### Therefore, A power User is someone who has gone through all through those resistances, with more than 1 receipts with sales of over 10$ in the past 30 days. In this given dataset, there are 1697 power users"
   ]
  },
  {
   "cell_type": "code",
   "execution_count": 54,
   "id": "82a7c567-62ea-4ba2-80f1-361e28015c93",
   "metadata": {},
   "outputs": [],
   "source": [
    "## RFM ANALYSIS FOR power USERS\n",
    "\n",
    "usage_recency = df_transaction.groupby('USER_ID')['PURCHASE_DATE'].max().reset_index()\n",
    "usage_recency['recency']= (usage_recency['PURCHASE_DATE'].max()- usage_recency['PURCHASE_DATE']).dt.days"
   ]
  },
  {
   "cell_type": "code",
   "execution_count": 56,
   "id": "ba560c03-e1ff-46d0-a5d3-18edd4b39839",
   "metadata": {},
   "outputs": [
    {
     "data": {
      "text/plain": [
       "<Axes: xlabel='recency', ylabel='Density'>"
      ]
     },
     "execution_count": 56,
     "metadata": {},
     "output_type": "execute_result"
    },
    {
     "data": {
      "image/png": "[encoded data removed]",
      "text/plain": [
       "<Figure size 640x480 with 1 Axes>"
      ]
     },
     "metadata": {},
     "output_type": "display_data"
    }
   ],
   "source": [
    "sns.distplot(usage_recency[\"recency\"])"
   ]
  },
  {
   "cell_type": "code",
   "execution_count": 57,
   "id": "16831467-765d-4885-bbd2-b82b42946b8a",
   "metadata": {},
   "outputs": [
    {
     "data": {
      "text/plain": [
       "<Axes: xlabel='RECEIPT_ID', ylabel='Count'>"
      ]
     },
     "execution_count": 57,
     "metadata": {},
     "output_type": "execute_result"
    },
    {
     "data": {
      "image/png": "[encoded data removed]",
      "text/plain": [
       "<Figure size 640x480 with 1 Axes>"
      ]
     },
     "metadata": {},
     "output_type": "display_data"
    }
   ],
   "source": [
    "usage_frequency= df_transaction.groupby(['USER_ID'])['RECEIPT_ID'].nunique().reset_index()\n",
    "sns.histplot(data=usage_frequency, x=\"RECEIPT_ID\",binwidth=1)"
   ]
  },
  {
   "cell_type": "code",
   "execution_count": 60,
   "id": "2434c516-d781-4685-8278-b3f5a919dc12",
   "metadata": {},
   "outputs": [
    {
     "data": {
      "text/plain": [
       "<Axes: xlabel='FINAL_SALE', ylabel='Count'>"
      ]
     },
     "execution_count": 60,
     "metadata": {},
     "output_type": "execute_result"
    },
    {
     "data": {
      "image/png": "[encoded data removed]",
      "text/plain": [
       "<Figure size 640x480 with 1 Axes>"
      ]
     },
     "metadata": {},
     "output_type": "display_data"
    }
   ],
   "source": [
    "usage_monetary= df_transaction.groupby(['USER_ID'])['FINAL_SALE'].sum().reset_index()\n",
    "\n",
    "usage_monetary=usage_monetary[usage_monetary['FINAL_SALE']<=usage_monetary['FINAL_SALE'].quantile(0.98)]\n",
    "\n",
    "sns.histplot(data=usage_monetary, x=\"FINAL_SALE\",binwidth=5)"
   ]
  },
  {
   "cell_type": "code",
   "execution_count": 61,
   "id": "02615805-e424-4a18-8ccf-dca9a45c9ea6",
   "metadata": {},
   "outputs": [],
   "source": [
    "usage_rfm = usage_recency.merge(usage_frequency).merge(usage_monetary).drop(columns=['PURCHASE_DATE'])\n",
    "usage_rfm.columns = usage_rfm.columns.astype(str)\n",
    "usage_rfm.set_index('USER_ID', inplace=True)\n",
    "\n",
    "# ## removing outliers\n",
    "# #usage_rfm=usage_rfm.reset_index()[usage_rfm.reset_index()['customerid']!='9130350918561660'].set_index('customerid')\n",
    "\n",
    "# # Import library\n",
    "# from sklearn.preprocessing import StandardScaler\n",
    "# # Initialize the Object\n",
    "# scaler = StandardScaler()\n",
    "# # Fit and Transform The Data\n",
    "# scaler.fit(usage_rfm)\n",
    "# usage_rfm_normalized= scaler.transform(usage_rfm)\n",
    "# # Assert that it has mean 0 and variance 1\n",
    "# print(usage_rfm_normalized.mean(axis = 0).round(2)) \n",
    "# print(usage_rfm_normalized.std(axis = 0).round(2)) \n",
    "\n",
    "# from sklearn.cluster import KMeans\n",
    "# from scipy.spatial.distance import cdist\n",
    "\n",
    "# model = KMeans(init = 'k-means++',n_clusters=4, random_state=42)\n",
    "# model.fit(usage_rfm_normalized)\n",
    "# model.labels_.shape\n",
    "# usage_rfm[\"Cluster\"] = model.labels_\n",
    "\n",
    "# usage_rfm.groupby('Cluster').mean().round(1)"
   ]
  },
  {
   "cell_type": "code",
   "execution_count": 64,
   "id": "893b7c70-1bf8-44f7-893b-993e664ce3db",
   "metadata": {},
   "outputs": [
    {
     "data": {
      "text/plain": [
       "1697"
      ]
     },
     "execution_count": 64,
     "metadata": {},
     "output_type": "execute_result"
    }
   ],
   "source": [
    "power_users= usage_rfm[(usage_rfm['recency']<=30) & (usage_rfm['RECEIPT_ID']>1) & (usage_rfm['FINAL_SALE']>=10)]\n",
    "len(power_users)"
   ]
  },
  {
   "cell_type": "markdown",
   "id": "08d204ff-3d11-4bed-8c77-03292562b7d2",
   "metadata": {},
   "source": [
    "#### Which is the leading brand in the Dips & Salsa category?"
   ]
  },
  {
   "cell_type": "markdown",
   "id": "a69d99b1-0cdf-40fa-9a2f-82488d024e33",
   "metadata": {},
   "source": [
    "##### Here based on the highest sales , leading brands have been established as below\n"
   ]
  },
  {
   "cell_type": "code",
   "execution_count": 68,
   "id": "f3b83bc3-ed14-412a-a076-1bcd42e9b9c9",
   "metadata": {},
   "outputs": [
    {
     "data": {
      "text/html": [
       "<div>\n",
       "<style scoped>\n",
       "    .dataframe tbody tr th:only-of-type {\n",
       "        vertical-align: middle;\n",
       "    }\n",
       "\n",
       "    .dataframe tbody tr th {\n",
       "        vertical-align: top;\n",
       "    }\n",
       "\n",
       "    .dataframe thead th {\n",
       "        text-align: right;\n",
       "    }\n",
       "</style>\n",
       "<table border=\"1\" class=\"dataframe\">\n",
       "  <thead>\n",
       "    <tr style=\"text-align: right;\">\n",
       "      <th></th>\n",
       "      <th>BRAND</th>\n",
       "      <th>sum( t.FINAL_SALE)</th>\n",
       "      <th>count(distinct receipt_id)</th>\n",
       "    </tr>\n",
       "  </thead>\n",
       "  <tbody>\n",
       "    <tr>\n",
       "      <th>0</th>\n",
       "      <td>MARZETTI</td>\n",
       "      <td>5.99</td>\n",
       "      <td>1</td>\n",
       "    </tr>\n",
       "  </tbody>\n",
       "</table>\n",
       "</div>"
      ],
      "text/plain": [
       "      BRAND  sum( t.FINAL_SALE)  count(distinct receipt_id)\n",
       "0  MARZETTI                5.99                           1"
      ]
     },
     "execution_count": 68,
     "metadata": {},
     "output_type": "execute_result"
    }
   ],
   "source": [
    "\n",
    "query = \"\"\"\n",
    "Select p.brand , sum( t.FINAL_SALE), count(distinct receipt_id)\n",
    "from df_transaction t \n",
    "join df_user u on t.user_id=u.id \n",
    "join df_product p on p.barcode=t.barcode\n",
    "where p.CATEGORY_2='Dips & Salsa' \n",
    "group by 1\n",
    "order by 2 desc, 1 asc limit 1\n",
    "\"\"\"\n",
    "\n",
    "run_query = lambda query: sqldf(query, globals())\n",
    "run_query(query)"
   ]
  },
  {
   "cell_type": "markdown",
   "id": "9bc3f540-7e80-4810-b06e-2cfa57d92caf",
   "metadata": {},
   "source": [
    "#### At what percent has Fetch grown year over year?\n"
   ]
  },
  {
   "cell_type": "markdown",
   "id": "4881bd7c-36c1-4b3e-a52e-73103b1d8ff8",
   "metadata": {},
   "source": [
    "##### Growing of Fetch can be based on Transactions, users or products. But since Transactions are the most important amongst all\n",
    "##### I would have considered YOY growth in transaction to calculate the same. But since we have only 4 months of data, I am considering users database"
   ]
  },
  {
   "cell_type": "code",
   "execution_count": 71,
   "id": "9e99f738-cb26-4d4e-a0a1-561c498acd1b",
   "metadata": {},
   "outputs": [
    {
     "data": {
      "text/html": [
       "<div>\n",
       "<style scoped>\n",
       "    .dataframe tbody tr th:only-of-type {\n",
       "        vertical-align: middle;\n",
       "    }\n",
       "\n",
       "    .dataframe tbody tr th {\n",
       "        vertical-align: top;\n",
       "    }\n",
       "\n",
       "    .dataframe thead th {\n",
       "        text-align: right;\n",
       "    }\n",
       "</style>\n",
       "<table border=\"1\" class=\"dataframe\">\n",
       "  <thead>\n",
       "    <tr style=\"text-align: right;\">\n",
       "      <th></th>\n",
       "      <th>CREATED_YEAR</th>\n",
       "      <th>perc_YoY_users_growth</th>\n",
       "    </tr>\n",
       "  </thead>\n",
       "  <tbody>\n",
       "    <tr>\n",
       "      <th>0</th>\n",
       "      <td>2014</td>\n",
       "      <td>0</td>\n",
       "    </tr>\n",
       "    <tr>\n",
       "      <th>1</th>\n",
       "      <td>2015</td>\n",
       "      <td>70</td>\n",
       "    </tr>\n",
       "    <tr>\n",
       "      <th>2</th>\n",
       "      <td>2016</td>\n",
       "      <td>37</td>\n",
       "    </tr>\n",
       "    <tr>\n",
       "      <th>3</th>\n",
       "      <td>2017</td>\n",
       "      <td>820</td>\n",
       "    </tr>\n",
       "    <tr>\n",
       "      <th>4</th>\n",
       "      <td>2018</td>\n",
       "      <td>236</td>\n",
       "    </tr>\n",
       "    <tr>\n",
       "      <th>5</th>\n",
       "      <td>2019</td>\n",
       "      <td>227</td>\n",
       "    </tr>\n",
       "    <tr>\n",
       "      <th>6</th>\n",
       "      <td>2020</td>\n",
       "      <td>138</td>\n",
       "    </tr>\n",
       "    <tr>\n",
       "      <th>7</th>\n",
       "      <td>2021</td>\n",
       "      <td>13</td>\n",
       "    </tr>\n",
       "    <tr>\n",
       "      <th>8</th>\n",
       "      <td>2022</td>\n",
       "      <td>39</td>\n",
       "    </tr>\n",
       "    <tr>\n",
       "      <th>9</th>\n",
       "      <td>2023</td>\n",
       "      <td>-42</td>\n",
       "    </tr>\n",
       "    <tr>\n",
       "      <th>10</th>\n",
       "      <td>2024</td>\n",
       "      <td>-24</td>\n",
       "    </tr>\n",
       "  </tbody>\n",
       "</table>\n",
       "</div>"
      ],
      "text/plain": [
       "    CREATED_YEAR  perc_YoY_users_growth\n",
       "0           2014                      0\n",
       "1           2015                     70\n",
       "2           2016                     37\n",
       "3           2017                    820\n",
       "4           2018                    236\n",
       "5           2019                    227\n",
       "6           2020                    138\n",
       "7           2021                     13\n",
       "8           2022                     39\n",
       "9           2023                    -42\n",
       "10          2024                    -24"
      ]
     },
     "execution_count": 71,
     "metadata": {},
     "output_type": "execute_result"
    }
   ],
   "source": [
    "\n",
    "query = \"\"\"\n",
    "\n",
    "select CREATED_YEAR, coalesce( (users-lag(users) over (order by CREATED_YEAR asc))*100/lag(users) over (order by CREATED_YEAR asc),0) as perc_YoY_users_growth from(\n",
    "select CREATED_YEAR,count(distinct ID) as users\n",
    "from df_user group by 1)p\n",
    "\"\"\"\n",
    "\n",
    "run_query = lambda query: sqldf(query, globals())\n",
    "run_query(query)"
   ]
  },
  {
   "cell_type": "markdown",
   "id": "dded8383-33fd-4a5f-a29c-cd65435ec6c5",
   "metadata": {},
   "source": [
    "### Third: communicate with stakeholders\n"
   ]
  },
  {
   "cell_type": "markdown",
   "id": "5c2486cd-e987-4b02-8cb4-bf1891cd196a",
   "metadata": {},
   "source": [
    "##### Hello Product\n",
    "##### This is the data analyst working on the Transaction of June - Sep 2024 and have identified some potential data issues that need to be address to make the best data driven decisions. At Fetch we value data accuracy and data consistency to provide the best value to the users, In order to achieve it there are few steps that need to be taken,  I have summarized them below in each area, refer to the below:\n",
    "\n",
    "##### USER TABLE\n",
    "- Birthdate Year ranges from 1900 to 2022 which is clearly not feasible for that users to interact with Fetch\n",
    "  - Are the Users signing up through Referrals?\n",
    "  - And which channels have they signed up ? \n",
    "  - Are the Users churned? There are users from 2014, we need to understand whether the are still transacting or not? Because majority of the users are not in transaction table. This will help in our marketing efforts and reach out to the right users.\n",
    "\n",
    "##### PRODUCT TABLE\n",
    "- With ~93% nulls in Category4 column, if possible we can either Drop it( as lot of category4 info is already present in Category 3 ) or we need to maintain the columns more stringently\n",
    "    - When was the product launched on the Fetch and is it still continuing or not? This will let us understand why only few products have transactions and others dont have any transactions\n",
    "    - We also need to work on Product Launch date data point in the table \n",
    "\n",
    "\n",
    "##### TRANSACTION TABLE\n",
    "- Lot of non integer values in FINAL_QUANTITY column, Quantity is supposed to be a whole integer\n",
    "- FINAL_SALE is having ' ' instead of nulls\n",
    "- Since the Transactions table is related to product table through BARCODE, its important to have a non null BARCODE column\n",
    "- there are 49738 transactions with 17603 different users whose details are not in user table(But these users should be in users table due to referential data integrity)\n",
    "- there are 25170 transactions with 4465 different barcodes whose details are not in products table(But these products should be in products table due to referential data integrity)\n",
    "\n",
    "##### About the above, We need to allocate resources to resolve those issues and need to partner with the Data Engineering team in the next upcoming sprint.\n",
    "##### Also Having worked on Metric repository initiatives earlier in my career, I strongly encourage we need to streamline the maintenance of the tables and include a data dictionary in the archives to make sense of the data. For that, we can start with manual intervention and create the repository and slowly we can automate it with the integration of tools like DBT into our tech stack. In this initiative , I need help in setting up a recurring meeting series until the issues are resolved with a member of the product team and DE to set the context and keep the ball rolling.!!"
   ]
  },
  {
   "cell_type": "markdown",
   "id": "7977cc41-af96-4791-a793-9ae2e4b4bf3c",
   "metadata": {},
   "source": [
    "##### Interestingly even though the majority of the products are in 'HEALTH & WELLNESS' category , we see that 'Snacks' are the most consumed product. This can be confirmed by the data point if the products are still available to users (and continue to be shown in the app or not) or the product table is archive all products ever available to users."
   ]
  },
  {
   "cell_type": "code",
   "execution_count": 88,
   "id": "93459423-b13c-4d42-8ea1-94056494f152",
   "metadata": {},
   "outputs": [
    {
     "data": {
      "text/plain": [
       "CATEGORY_1\n",
       "Health & Wellness        510382\n",
       "Snacks                   323018\n",
       "Beverages                  3977\n",
       "Pantry                      867\n",
       "Apparel & Accessories       840\n",
       "Name: BARCODE, dtype: int64"
      ]
     },
     "execution_count": 88,
     "metadata": {},
     "output_type": "execute_result"
    }
   ],
   "source": [
    "## available products\n",
    "df_product.groupby('CATEGORY_1')['BARCODE'].nunique().nlargest(5)"
   ]
  },
  {
   "cell_type": "code",
   "execution_count": 101,
   "id": "13d11ebb-9d12-40f1-ada8-209bf35c198f",
   "metadata": {},
   "outputs": [
    {
     "data": {
      "text/plain": [
       "CATEGORY_1\n",
       "Snacks               47\n",
       "Health & Wellness    17\n",
       "Beverages             3\n",
       "Alcohol               1\n",
       "Dairy                 1\n",
       "Name: BARCODE, dtype: int64"
      ]
     },
     "execution_count": 101,
     "metadata": {},
     "output_type": "execute_result"
    }
   ],
   "source": [
    "# Transacted Products\n",
    "df.groupby('CATEGORY_1')['BARCODE'].nunique().nlargest(5)"
   ]
  },
  {
   "cell_type": "code",
   "execution_count": null,
   "id": "6b231bf7-dba7-4988-ab92-e2397eef5404",
   "metadata": {},
   "outputs": [],
   "source": []
  }
 ],
 "metadata": {
  "kernelspec": {
   "display_name": "Python [conda env:base] *",
   "language": "python",
   "name": "conda-base-py"
  },
  "language_info": {
   "codemirror_mode": {
    "name": "ipython",
    "version": 3
   },
   "file_extension": ".py",
   "mimetype": "text/x-python",
   "name": "python",
   "nbconvert_exporter": "python",
   "pygments_lexer": "ipython3",
   "version": "3.12.7"
  }
 },
 "nbformat": 4,
 "nbformat_minor": 5
}
